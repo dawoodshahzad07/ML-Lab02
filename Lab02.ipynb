{
 "cells": [
  {
   "cell_type": "markdown",
   "metadata": {},
   "source": [
    "Dawood Shahzad\n",
    "02-136221-034\n",
    "BSAI-5A"
   ]
  },
  {
   "cell_type": "markdown",
   "metadata": {},
   "source": [
    "Exercise 01"
   ]
  },
  {
   "cell_type": "code",
   "execution_count": 1,
   "metadata": {},
   "outputs": [
    {
     "name": "stderr",
     "output_type": "stream",
     "text": [
      "d:\\Anaconda\\Lib\\site-packages\\fuzzywuzzy\\fuzz.py:11: UserWarning: Using slow pure-python SequenceMatcher. Install python-Levenshtein to remove this warning\n",
      "  warnings.warn('Using slow pure-python SequenceMatcher. Install python-Levenshtein to remove this warning')\n"
     ]
    }
   ],
   "source": [
    "import pandas as pd\n",
    "import fuzzywuzzy \n",
    "from fuzzywuzzy import process"
   ]
  },
  {
   "cell_type": "code",
   "execution_count": 2,
   "metadata": {},
   "outputs": [],
   "source": [
    "suicide_attacks=pd.read_csv(\"D:\\\\Uni-ka-Barood\\\\-----CURRENT-----\\\\PakistanSuicideAttacks Ver 11 (30-November-2017).csv\",encoding='latin1')"
   ]
  },
  {
   "cell_type": "code",
   "execution_count": 3,
   "metadata": {},
   "outputs": [
    {
     "data": {
      "text/plain": [
       "Index(['S#', 'Date', 'Islamic Date', 'Blast Day Type', 'Holiday Type', 'Time',\n",
       "       'City', 'Latitude', 'Longitude', 'Province', 'Location',\n",
       "       'Location Category', 'Location Sensitivity', 'Open/Closed Space',\n",
       "       'Influencing Event/Event', 'Target Type', 'Targeted Sect if any',\n",
       "       'Killed Min', 'Killed Max', 'Injured Min', 'Injured Max',\n",
       "       'No. of Suicide Blasts', 'Explosive Weight (max)', 'Hospital Names',\n",
       "       'Temperature(C)', 'Temperature(F)'],\n",
       "      dtype='object')"
      ]
     },
     "execution_count": 3,
     "metadata": {},
     "output_type": "execute_result"
    }
   ],
   "source": [
    "suicide_attacks.columns"
   ]
  },
  {
   "cell_type": "markdown",
   "metadata": {},
   "source": [
    "1.\tTake a look at all the unique values in the \"Province\" column in suisides_attacks dataset. Then convert the column to lowercase and remove any trailing white spaces."
   ]
  },
  {
   "cell_type": "code",
   "execution_count": 4,
   "metadata": {},
   "outputs": [
    {
     "data": {
      "text/plain": [
       "array(['Capital', 'Sindh', 'Baluchistan', 'Punjab', 'FATA', 'KPK', 'AJK',\n",
       "       'Fata', 'Balochistan'], dtype=object)"
      ]
     },
     "execution_count": 4,
     "metadata": {},
     "output_type": "execute_result"
    }
   ],
   "source": [
    "suicide_attacks['Province'].unique()"
   ]
  },
  {
   "cell_type": "code",
   "execution_count": 5,
   "metadata": {},
   "outputs": [],
   "source": [
    "suicide_attacks['Province']=suicide_attacks['Province'].str.lower()\n",
    "suicide_attacks['Province']=suicide_attacks['Province'].str.strip()"
   ]
  },
  {
   "cell_type": "code",
   "execution_count": 6,
   "metadata": {},
   "outputs": [
    {
     "data": {
      "text/plain": [
       "array(['capital', 'sindh', 'baluchistan', 'punjab', 'fata', 'kpk', 'ajk',\n",
       "       'balochistan'], dtype=object)"
      ]
     },
     "execution_count": 6,
     "metadata": {},
     "output_type": "execute_result"
    }
   ],
   "source": [
    "suicide_attacks['Province'].unique()"
   ]
  },
  {
   "cell_type": "markdown",
   "metadata": {},
   "source": [
    "2.\tIn “Province” Column ‘Balochistan’ and ‘Baluchistan’ should be the same province so correct this inconsistency in the Province column"
   ]
  },
  {
   "cell_type": "code",
   "execution_count": 7,
   "metadata": {},
   "outputs": [],
   "source": [
    "provinces=suicide_attacks['Province'].unique()"
   ]
  },
  {
   "cell_type": "code",
   "execution_count": 8,
   "metadata": {},
   "outputs": [],
   "source": [
    "matches=fuzzywuzzy.process.extract('balochistan',provinces,limit=10,scorer=fuzzywuzzy.fuzz.token_sort_ratio)"
   ]
  },
  {
   "cell_type": "code",
   "execution_count": 9,
   "metadata": {},
   "outputs": [
    {
     "data": {
      "text/plain": [
       "[('balochistan', 100),\n",
       " ('baluchistan', 91),\n",
       " ('fata', 40),\n",
       " ('capital', 22),\n",
       " ('ajk', 14),\n",
       " ('sindh', 12),\n",
       " ('punjab', 12),\n",
       " ('kpk', 0)]"
      ]
     },
     "execution_count": 9,
     "metadata": {},
     "output_type": "execute_result"
    }
   ],
   "source": [
    "matches"
   ]
  },
  {
   "cell_type": "code",
   "execution_count": 10,
   "metadata": {},
   "outputs": [],
   "source": [
    "def replace_matches_in_column(df,column,string_to_match,min_ratio=90):\n",
    "    strings=df[column].unique()\n",
    "    matches=fuzzywuzzy.process.extract(string_to_match,strings,limit=10,scorer=fuzzywuzzy.fuzz.token_sort_ratio)\n",
    "    \n",
    "    close_match=[matches[0] for matches in matches if matches[1] >= min_ratio]\n",
    "    \n",
    "    rows_with_matches=df[column].isin(close_match)\n",
    "    df.loc[rows_with_matches,column]=string_to_match\n",
    "    \n",
    "    print('completed')"
   ]
  },
  {
   "cell_type": "code",
   "execution_count": 11,
   "metadata": {},
   "outputs": [
    {
     "name": "stdout",
     "output_type": "stream",
     "text": [
      "completed\n"
     ]
    }
   ],
   "source": [
    "replace_matches_in_column(df=suicide_attacks,column='Province',string_to_match='balochistan',min_ratio=90)"
   ]
  },
  {
   "cell_type": "code",
   "execution_count": 12,
   "metadata": {},
   "outputs": [
    {
     "data": {
      "text/plain": [
       "array(['capital', 'sindh', 'balochistan', 'punjab', 'fata', 'kpk', 'ajk'],\n",
       "      dtype=object)"
      ]
     },
     "execution_count": 12,
     "metadata": {},
     "output_type": "execute_result"
    }
   ],
   "source": [
    "suicide_attacks['Province'].unique()"
   ]
  },
  {
   "cell_type": "markdown",
   "metadata": {},
   "source": [
    "3.\tIn Province column ‘FATA’ and ’Fata’ should be considered same so correct this inconcistency as well"
   ]
  },
  {
   "cell_type": "code",
   "execution_count": 13,
   "metadata": {},
   "outputs": [
    {
     "data": {
      "text/plain": [
       "array(['capital', 'sindh', 'balochistan', 'punjab', 'fata', 'kpk', 'ajk'],\n",
       "      dtype=object)"
      ]
     },
     "execution_count": 13,
     "metadata": {},
     "output_type": "execute_result"
    }
   ],
   "source": [
    "#When we applied lower and strip function in task1, this thing was also resolved there.\n",
    "suicide_attacks['Province'].unique()"
   ]
  },
  {
   "cell_type": "markdown",
   "metadata": {},
   "source": [
    "4.\tIn suicide_attacks dataset type of ‘Longitude’ column should be numeric rather than ‘Object’. Parse this value from Object to Numeric and show graphical representation using seaborn library."
   ]
  },
  {
   "cell_type": "code",
   "execution_count": 14,
   "metadata": {},
   "outputs": [
    {
     "data": {
      "text/plain": [
       "dtype('O')"
      ]
     },
     "execution_count": 14,
     "metadata": {},
     "output_type": "execute_result"
    }
   ],
   "source": [
    "suicide_attacks['Longitude'].dtype"
   ]
  },
  {
   "cell_type": "code",
   "execution_count": 15,
   "metadata": {},
   "outputs": [],
   "source": [
    "encoded_longitude=pd.get_dummies(suicide_attacks[['Longitude']])"
   ]
  },
  {
   "cell_type": "code",
   "execution_count": 16,
   "metadata": {},
   "outputs": [
    {
     "name": "stdout",
     "output_type": "stream",
     "text": [
      "<class 'pandas.core.frame.DataFrame'>\n",
      "RangeIndex: 496 entries, 0 to 495\n",
      "Data columns (total 100 columns):\n",
      " #   Column                Non-Null Count  Dtype\n",
      "---  ------                --------------  -----\n",
      " 0   Longitude_62.35       496 non-null    uint8\n",
      " 1   Longitude_66.4447     496 non-null    uint8\n",
      " 2   Longitude_66.452402   496 non-null    uint8\n",
      " 3   Longitude_66.5224     496 non-null    uint8\n",
      " 4   Longitude_66.848056   496 non-null    uint8\n",
      " 5   Longitude_66.981476   496 non-null    uint8\n",
      " 6   Longitude_66.98195    496 non-null    uint8\n",
      " 7   Longitude_66.9911     496 non-null    uint8\n",
      " 8   Longitude_66.998734   496 non-null    uint8\n",
      " 9   Longitude_67          496 non-null    uint8\n",
      " 10  Longitude_67.00178    496 non-null    uint8\n",
      " 11  Longitude_67.002524   496 non-null    uint8\n",
      " 12  Longitude_67.004469   496 non-null    uint8\n",
      " 13  Longitude_67.008822   496 non-null    uint8\n",
      " 14  Longitude_67.010157   496 non-null    uint8\n",
      " 15  Longitude_67.0182     496 non-null    uint8\n",
      " 16  Longitude_67.02239    496 non-null    uint8\n",
      " 17  Longitude_67.174575   496 non-null    uint8\n",
      " 18  Longitude_67.496895   496 non-null    uint8\n",
      " 19  Longitude_67.859373   496 non-null    uint8\n",
      " 20  Longitude_68.6667     496 non-null    uint8\n",
      " 21  Longitude_68.712889   496 non-null    uint8\n",
      " 22  Longitude_68.730383   496 non-null    uint8\n",
      " 23  Longitude_68.8667     496 non-null    uint8\n",
      " 24  Longitude_69.448659   496 non-null    uint8\n",
      " 25  Longitude_69.45       496 non-null    uint8\n",
      " 26  Longitude_69.8597     496 non-null    uint8\n",
      " 27  Longitude_70.10878    496 non-null    uint8\n",
      " 28  Longitude_70.1455     496 non-null    uint8\n",
      " 29  Longitude_70.1456     496 non-null    uint8\n",
      " 30  Longitude_70.3761     496 non-null    uint8\n",
      " 31  Longitude_70.51364    496 non-null    uint8\n",
      " 32  Longitude_70.6042     496 non-null    uint8\n",
      " 33  Longitude_70.60908    496 non-null    uint8\n",
      " 34  Longitude_70.6333     496 non-null    uint8\n",
      " 35  Longitude_70.658161   496 non-null    uint8\n",
      " 36  Longitude_70.6688     496 non-null    uint8\n",
      " 37  Longitude_70.9095     496 non-null    uint8\n",
      " 38  Longitude_70.9148     496 non-null    uint8\n",
      " 39  Longitude_71.065      496 non-null    uint8\n",
      " 40  Longitude_71.0713     496 non-null    uint8\n",
      " 41  Longitude_71.0951     496 non-null    uint8\n",
      " 42  Longitude_71.28436    496 non-null    uint8\n",
      " 43  Longitude_71.2874     496 non-null    uint8\n",
      " 44  Longitude_71.287421   496 non-null    uint8\n",
      " 45  Longitude_71.333333   496 non-null    uint8\n",
      " 46  Longitude_71.340408   496 non-null    uint8\n",
      " 47  Longitude_71.398789   496 non-null    uint8\n",
      " 48  Longitude_71.42502    496 non-null    uint8\n",
      " 49  Longitude_71.4333     496 non-null    uint8\n",
      " 50  Longitude_71.434141   496 non-null    uint8\n",
      " 51  Longitude_71.43862    496 non-null    uint8\n",
      " 52  Longitude_71.449009   496 non-null    uint8\n",
      " 53  Longitude_71.4559     496 non-null    uint8\n",
      " 54  Longitude_71.5131     496 non-null    uint8\n",
      " 55  Longitude_71.5249     496 non-null    uint8\n",
      " 56  Longitude_71.5448     496 non-null    uint8\n",
      " 57  Longitude_71.560424   496 non-null    uint8\n",
      " 58  Longitude_71.5805     496 non-null    uint8\n",
      " 59  Longitude_71.653889   496 non-null    uint8\n",
      " 60  Longitude_71.7359     496 non-null    uint8\n",
      " 61  Longitude_71.742781   496 non-null    uint8\n",
      " 62  Longitude_71.8749     496 non-null    uint8\n",
      " 63  Longitude_71.9046     496 non-null    uint8\n",
      " 64  Longitude_71.9308     496 non-null    uint8\n",
      " 65  Longitude_72.036565   496 non-null    uint8\n",
      " 66  Longitude_72.037771   496 non-null    uint8\n",
      " 67  Longitude_72.0444     496 non-null    uint8\n",
      " 68  Longitude_72.049453   496 non-null    uint8\n",
      " 69  Longitude_72.050801   496 non-null    uint8\n",
      " 70  Longitude_72.1833     496 non-null    uint8\n",
      " 71  Longitude_72.362147   496 non-null    uint8\n",
      " 72  Longitude_72.3667     496 non-null    uint8\n",
      " 73  Longitude_72.4258     496 non-null    uint8\n",
      " 74  Longitude_72.4702     496 non-null    uint8\n",
      " 75  Longitude_72.5        496 non-null    uint8\n",
      " 76  Longitude_72.6151     496 non-null    uint8\n",
      " 77  Longitude_72.6378     496 non-null    uint8\n",
      " 78  Longitude_72.6711     496 non-null    uint8\n",
      " 79  Longitude_72.6718     496 non-null    uint8\n",
      " 80  Longitude_72.757      496 non-null    uint8\n",
      " 81  Longitude_72.8556     496 non-null    uint8\n",
      " 82  Longitude_72.9372     496 non-null    uint8\n",
      " 83  Longitude_73.0333     496 non-null    uint8\n",
      " 84  Longitude_73.0437     496 non-null    uint8\n",
      " 85  Longitude_73.0718     496 non-null    uint8\n",
      " 86  Longitude_73.0944     496 non-null    uint8\n",
      " 87  Longitude_73.2        496 non-null    uint8\n",
      " 88  Longitude_73.4711     496 non-null    uint8\n",
      " 89  Longitude_73.7242     496 non-null    uint8\n",
      " 90  Longitude_73.7949     496 non-null    uint8\n",
      " 91  Longitude_74.0786     496 non-null    uint8\n",
      " 92  Longitude_74.28899    496 non-null    uint8\n",
      " 93  Longitude_74.331873   496 non-null    uint8\n",
      " 94  Longitude_74.33312    496 non-null    uint8\n",
      " 95  Longitude_74.3407     496 non-null    uint8\n",
      " 96  Longitude_74.435675   496 non-null    uint8\n",
      " 97  Longitude_74.5361     496 non-null    uint8\n",
      " 98  Longitude_74.5729     496 non-null    uint8\n",
      " 99  Longitude_ 71.456944  496 non-null    uint8\n",
      "dtypes: uint8(100)\n",
      "memory usage: 48.6 KB\n"
     ]
    }
   ],
   "source": [
    "encoded_longitude.info()"
   ]
  },
  {
   "cell_type": "markdown",
   "metadata": {},
   "source": [
    "5.\tIt looks like 'kuram agency' and 'kurram agency' should be the same City column. Correct the dataframe so that they are considered same."
   ]
  },
  {
   "cell_type": "code",
   "execution_count": 17,
   "metadata": {},
   "outputs": [
    {
     "data": {
      "text/plain": [
       "array(['Islamabad', 'Karachi', 'Karachi ', 'Quetta', 'Rawalpindi',\n",
       "       'North waziristan', 'Kohat', 'Attock ', 'Sialkot', 'Lahore ',\n",
       "       'Swat', 'Hangu', 'Bannu', 'North Waziristan', 'Lasbela',\n",
       "       'Malakand ', 'Peshawar', 'Peshawar ', 'D.I Khan ', 'Lakki Marwat',\n",
       "       'Tank', 'Islamabad ', 'Quetta ', 'Gujrat', 'Charsadda', 'Tank ',\n",
       "       'Swat ', 'D.I Khan', 'Kohat ', 'Kuram Agency ', 'Shangla ',\n",
       "       'Bajaur Agency', 'South Waziristan', 'Haripur', 'bannu',\n",
       "       'karachi ', 'Sargodha', 'Nowshehra', 'Charsadda ',\n",
       "       'Mohmand agency', 'Dara Adam Khel', 'Khyber Agency', 'Mardan',\n",
       "       'Bhakkar ', 'Orakzai Agency', 'Mohmand Agency', 'Buner',\n",
       "       'D.G Khan ', 'Pishin', 'Chakwal ', 'Lahore', 'Upper Dir',\n",
       "       'Muzaffarabad', 'swat', 'Totalai', 'Multan', 'D.G Khan',\n",
       "       'Lower Dir', 'Lakki marwat', 'Sudhanoti', 'Khyber Agency ',\n",
       "       'peshawar', 'Poonch', 'Mansehra', 'Karak', 'Mohmand Agency ',\n",
       "       'South waziristan', 'lakki marwat', 'Swabi ', 'Dara Adam khel',\n",
       "       'karachi', 'Shikarpur', 'Sukkur', 'Chaman', 'D. I Khan',\n",
       "       'Khanewal', 'Fateh Jang', 'Taftan', 'Tirah Valley', 'Wagah',\n",
       "       'Zhob', 'KURRAM AGENCY', 'ATTOCK', 'MULTAN', 'Taunsa', 'Jacobabad',\n",
       "       'Shabqadar-Charsadda', 'Khuzdar', 'Ghallanai, Mohmand Agency ',\n",
       "       'Hayatabad', 'Mosal Kor, Mohmand Agency', 'Sehwan town',\n",
       "       'Tangi, Charsadda District'], dtype=object)"
      ]
     },
     "execution_count": 17,
     "metadata": {},
     "output_type": "execute_result"
    }
   ],
   "source": [
    "suicide_attacks['City'].unique()"
   ]
  },
  {
   "cell_type": "code",
   "execution_count": 18,
   "metadata": {},
   "outputs": [],
   "source": [
    "suicide_attacks['City']=suicide_attacks['City'].str.lower()\n",
    "suicide_attacks['City']=suicide_attacks['City'].str.strip()"
   ]
  },
  {
   "cell_type": "code",
   "execution_count": 19,
   "metadata": {},
   "outputs": [
    {
     "data": {
      "text/plain": [
       "array(['attock', 'bajaur agency', 'bannu', 'bhakkar', 'buner', 'chakwal',\n",
       "       'chaman', 'charsadda', 'd. i khan', 'd.g khan', 'd.i khan',\n",
       "       'dara adam khel', 'fateh jang', 'ghallanai, mohmand agency',\n",
       "       'gujrat', 'hangu', 'haripur', 'hayatabad', 'islamabad',\n",
       "       'jacobabad', 'karachi', 'karak', 'khanewal', 'khuzdar',\n",
       "       'khyber agency', 'kohat', 'kuram agency', 'kurram agency',\n",
       "       'lahore', 'lakki marwat', 'lasbela', 'lower dir', 'malakand',\n",
       "       'mansehra', 'mardan', 'mohmand agency',\n",
       "       'mosal kor, mohmand agency', 'multan', 'muzaffarabad',\n",
       "       'north waziristan', 'nowshehra', 'orakzai agency', 'peshawar',\n",
       "       'pishin', 'poonch', 'quetta', 'rawalpindi', 'sargodha',\n",
       "       'sehwan town', 'shabqadar-charsadda', 'shangla', 'shikarpur',\n",
       "       'sialkot', 'south waziristan', 'sudhanoti', 'sukkur', 'swabi',\n",
       "       'swat', 'taftan', 'tangi, charsadda district', 'tank', 'taunsa',\n",
       "       'tirah valley', 'totalai', 'upper dir', 'wagah', 'zhob'],\n",
       "      dtype=object)"
      ]
     },
     "execution_count": 19,
     "metadata": {},
     "output_type": "execute_result"
    }
   ],
   "source": [
    "cities=suicide_attacks['City'].unique()\n",
    "cities.sort()\n",
    "cities"
   ]
  },
  {
   "cell_type": "code",
   "execution_count": 20,
   "metadata": {},
   "outputs": [],
   "source": [
    "matches=fuzzywuzzy.process.extract('kuram agency',cities,limit=10,scorer=fuzzywuzzy.fuzz.token_sort_ratio)"
   ]
  },
  {
   "cell_type": "code",
   "execution_count": 21,
   "metadata": {},
   "outputs": [
    {
     "data": {
      "text/plain": [
       "[('kuram agency', 100),\n",
       " ('kurram agency', 96),\n",
       " ('bajaur agency', 72),\n",
       " ('khyber agency', 72),\n",
       " ('orakzai agency', 69),\n",
       " ('mohmand agency', 62),\n",
       " ('mosal kor, mohmand agency', 61),\n",
       " ('ghallanai, mohmand agency', 50),\n",
       " ('gujrat', 44),\n",
       " ('d.g khan', 40)]"
      ]
     },
     "execution_count": 21,
     "metadata": {},
     "output_type": "execute_result"
    }
   ],
   "source": [
    "matches"
   ]
  },
  {
   "cell_type": "code",
   "execution_count": 22,
   "metadata": {},
   "outputs": [],
   "source": [
    "def replace_matches_in_column(df,column,string_to_match,min_ratio=90):\n",
    "    strings=df[column].unique()\n",
    "    matches=fuzzywuzzy.process.extract(string_to_match,strings,limit=10,scorer=fuzzywuzzy.fuzz.token_sort_ratio)\n",
    "    \n",
    "    close_match=[matches[0] for matches in matches if matches[1] >= min_ratio]\n",
    "    \n",
    "    rows_with_matches=df[column].isin(close_match)\n",
    "    df.loc[rows_with_matches,column]=string_to_match\n",
    "    \n",
    "    print('Done')"
   ]
  },
  {
   "cell_type": "code",
   "execution_count": 23,
   "metadata": {},
   "outputs": [
    {
     "name": "stdout",
     "output_type": "stream",
     "text": [
      "Done\n"
     ]
    }
   ],
   "source": [
    "replace_matches_in_column(df=suicide_attacks,column='City',string_to_match='kuram agency',min_ratio=90)\n"
   ]
  },
  {
   "cell_type": "code",
   "execution_count": 24,
   "metadata": {},
   "outputs": [
    {
     "data": {
      "text/plain": [
       "array(['attock', 'bajaur agency', 'bannu', 'bhakkar', 'buner', 'chakwal',\n",
       "       'chaman', 'charsadda', 'd. i khan', 'd.g khan', 'd.i khan',\n",
       "       'dara adam khel', 'fateh jang', 'ghallanai, mohmand agency',\n",
       "       'gujrat', 'hangu', 'haripur', 'hayatabad', 'islamabad',\n",
       "       'jacobabad', 'karachi', 'karak', 'khanewal', 'khuzdar',\n",
       "       'khyber agency', 'kohat', 'kuram agency', 'lahore', 'lakki marwat',\n",
       "       'lasbela', 'lower dir', 'malakand', 'mansehra', 'mardan',\n",
       "       'mohmand agency', 'mosal kor, mohmand agency', 'multan',\n",
       "       'muzaffarabad', 'north waziristan', 'nowshehra', 'orakzai agency',\n",
       "       'peshawar', 'pishin', 'poonch', 'quetta', 'rawalpindi', 'sargodha',\n",
       "       'sehwan town', 'shabqadar-charsadda', 'shangla', 'shikarpur',\n",
       "       'sialkot', 'south waziristan', 'sudhanoti', 'sukkur', 'swabi',\n",
       "       'swat', 'taftan', 'tangi, charsadda district', 'tank', 'taunsa',\n",
       "       'tirah valley', 'totalai', 'upper dir', 'wagah', 'zhob'],\n",
       "      dtype=object)"
      ]
     },
     "execution_count": 24,
     "metadata": {},
     "output_type": "execute_result"
    }
   ],
   "source": [
    "city=suicide_attacks['City'].unique()\n",
    "city.sort()\n",
    "city"
   ]
  },
  {
   "cell_type": "code",
   "execution_count": 25,
   "metadata": {},
   "outputs": [
    {
     "data": {
      "text/plain": [
       "[('kuram agency', 100),\n",
       " ('bajaur agency', 72),\n",
       " ('khyber agency', 72),\n",
       " ('orakzai agency', 69),\n",
       " ('mohmand agency', 62),\n",
       " ('mosal kor, mohmand agency', 61),\n",
       " ('ghallanai, mohmand agency', 50),\n",
       " ('gujrat', 44),\n",
       " ('d.g khan', 40),\n",
       " ('mansehra', 40)]"
      ]
     },
     "execution_count": 25,
     "metadata": {},
     "output_type": "execute_result"
    }
   ],
   "source": [
    "fuzzywuzzy.process.extract('kuram agency',city,limit=10,scorer=fuzzywuzzy.fuzz.token_sort_ratio)"
   ]
  },
  {
   "cell_type": "markdown",
   "metadata": {},
   "source": [
    "Exercise 02"
   ]
  },
  {
   "cell_type": "markdown",
   "metadata": {},
   "source": [
    "6.\tFetch first ten rows from the dataset, and note down the number of columns and rows in this dataset."
   ]
  },
  {
   "cell_type": "code",
   "execution_count": 26,
   "metadata": {},
   "outputs": [
    {
     "name": "stderr",
     "output_type": "stream",
     "text": [
      "C:\\Users\\Home\\AppData\\Local\\Temp\\ipykernel_1732\\449977013.py:2: DtypeWarning: Columns (2,3,4,5,6,7,9,13,20,21,24,25,33,34,37,38,39,41,42,46,47,160,161,162,163,164,165,166,167,172,173,174,175,176,177,178,179,180,181,182,183,184,185,186,187,188,189,190,191,192,193,196,197,198,199,200,201,202,203,204,205,206,207,208,209,210,211,212,213,214,215,216,217,224,225,226,227,228,229,230,231,232,233,234,236,237,242,244,245,246,250) have mixed types. Specify dtype option on import or set low_memory=False.\n",
      "  nfl=pd.read_csv(\"D:\\\\Uni-ka-Barood\\\\nfl\\\\NFL Play by Play 2009-2018 (v5).csv\")\n"
     ]
    }
   ],
   "source": [
    "#I already had downloaded nfl with version 5, so I used it. It may differ from v4.\n",
    "nfl=pd.read_csv(\"D:\\\\Uni-ka-Barood\\\\nfl\\\\NFL Play by Play 2009-2018 (v5).csv\")"
   ]
  },
  {
   "cell_type": "code",
   "execution_count": 27,
   "metadata": {},
   "outputs": [
    {
     "data": {
      "text/html": [
       "<div>\n",
       "<style scoped>\n",
       "    .dataframe tbody tr th:only-of-type {\n",
       "        vertical-align: middle;\n",
       "    }\n",
       "\n",
       "    .dataframe tbody tr th {\n",
       "        vertical-align: top;\n",
       "    }\n",
       "\n",
       "    .dataframe thead th {\n",
       "        text-align: right;\n",
       "    }\n",
       "</style>\n",
       "<table border=\"1\" class=\"dataframe\">\n",
       "  <thead>\n",
       "    <tr style=\"text-align: right;\">\n",
       "      <th></th>\n",
       "      <th>play_id</th>\n",
       "      <th>game_id</th>\n",
       "      <th>home_team</th>\n",
       "      <th>away_team</th>\n",
       "      <th>posteam</th>\n",
       "      <th>posteam_type</th>\n",
       "      <th>defteam</th>\n",
       "      <th>side_of_field</th>\n",
       "      <th>yardline_100</th>\n",
       "      <th>game_date</th>\n",
       "      <th>...</th>\n",
       "      <th>penalty_player_id</th>\n",
       "      <th>penalty_player_name</th>\n",
       "      <th>penalty_yards</th>\n",
       "      <th>replay_or_challenge</th>\n",
       "      <th>replay_or_challenge_result</th>\n",
       "      <th>penalty_type</th>\n",
       "      <th>defensive_two_point_attempt</th>\n",
       "      <th>defensive_two_point_conv</th>\n",
       "      <th>defensive_extra_point_attempt</th>\n",
       "      <th>defensive_extra_point_conv</th>\n",
       "    </tr>\n",
       "  </thead>\n",
       "  <tbody>\n",
       "    <tr>\n",
       "      <th>0</th>\n",
       "      <td>46.0</td>\n",
       "      <td>2.009091e+09</td>\n",
       "      <td>PIT</td>\n",
       "      <td>TEN</td>\n",
       "      <td>PIT</td>\n",
       "      <td>home</td>\n",
       "      <td>TEN</td>\n",
       "      <td>TEN</td>\n",
       "      <td>30.0</td>\n",
       "      <td>10/09/2009</td>\n",
       "      <td>...</td>\n",
       "      <td>NaN</td>\n",
       "      <td>NaN</td>\n",
       "      <td>NaN</td>\n",
       "      <td>0.0</td>\n",
       "      <td>NaN</td>\n",
       "      <td>NaN</td>\n",
       "      <td>0.0</td>\n",
       "      <td>0.0</td>\n",
       "      <td>0.0</td>\n",
       "      <td>0.0</td>\n",
       "    </tr>\n",
       "    <tr>\n",
       "      <th>1</th>\n",
       "      <td>68.0</td>\n",
       "      <td>2.009091e+09</td>\n",
       "      <td>PIT</td>\n",
       "      <td>TEN</td>\n",
       "      <td>PIT</td>\n",
       "      <td>home</td>\n",
       "      <td>TEN</td>\n",
       "      <td>PIT</td>\n",
       "      <td>58.0</td>\n",
       "      <td>10/09/2009</td>\n",
       "      <td>...</td>\n",
       "      <td>NaN</td>\n",
       "      <td>NaN</td>\n",
       "      <td>NaN</td>\n",
       "      <td>0.0</td>\n",
       "      <td>NaN</td>\n",
       "      <td>NaN</td>\n",
       "      <td>0.0</td>\n",
       "      <td>0.0</td>\n",
       "      <td>0.0</td>\n",
       "      <td>0.0</td>\n",
       "    </tr>\n",
       "    <tr>\n",
       "      <th>2</th>\n",
       "      <td>92.0</td>\n",
       "      <td>2.009091e+09</td>\n",
       "      <td>PIT</td>\n",
       "      <td>TEN</td>\n",
       "      <td>PIT</td>\n",
       "      <td>home</td>\n",
       "      <td>TEN</td>\n",
       "      <td>PIT</td>\n",
       "      <td>53.0</td>\n",
       "      <td>10/09/2009</td>\n",
       "      <td>...</td>\n",
       "      <td>NaN</td>\n",
       "      <td>NaN</td>\n",
       "      <td>NaN</td>\n",
       "      <td>0.0</td>\n",
       "      <td>NaN</td>\n",
       "      <td>NaN</td>\n",
       "      <td>0.0</td>\n",
       "      <td>0.0</td>\n",
       "      <td>0.0</td>\n",
       "      <td>0.0</td>\n",
       "    </tr>\n",
       "    <tr>\n",
       "      <th>3</th>\n",
       "      <td>113.0</td>\n",
       "      <td>2.009091e+09</td>\n",
       "      <td>PIT</td>\n",
       "      <td>TEN</td>\n",
       "      <td>PIT</td>\n",
       "      <td>home</td>\n",
       "      <td>TEN</td>\n",
       "      <td>PIT</td>\n",
       "      <td>56.0</td>\n",
       "      <td>10/09/2009</td>\n",
       "      <td>...</td>\n",
       "      <td>NaN</td>\n",
       "      <td>NaN</td>\n",
       "      <td>NaN</td>\n",
       "      <td>0.0</td>\n",
       "      <td>NaN</td>\n",
       "      <td>NaN</td>\n",
       "      <td>0.0</td>\n",
       "      <td>0.0</td>\n",
       "      <td>0.0</td>\n",
       "      <td>0.0</td>\n",
       "    </tr>\n",
       "    <tr>\n",
       "      <th>4</th>\n",
       "      <td>139.0</td>\n",
       "      <td>2.009091e+09</td>\n",
       "      <td>PIT</td>\n",
       "      <td>TEN</td>\n",
       "      <td>PIT</td>\n",
       "      <td>home</td>\n",
       "      <td>TEN</td>\n",
       "      <td>PIT</td>\n",
       "      <td>56.0</td>\n",
       "      <td>10/09/2009</td>\n",
       "      <td>...</td>\n",
       "      <td>NaN</td>\n",
       "      <td>NaN</td>\n",
       "      <td>NaN</td>\n",
       "      <td>0.0</td>\n",
       "      <td>NaN</td>\n",
       "      <td>NaN</td>\n",
       "      <td>0.0</td>\n",
       "      <td>0.0</td>\n",
       "      <td>0.0</td>\n",
       "      <td>0.0</td>\n",
       "    </tr>\n",
       "    <tr>\n",
       "      <th>5</th>\n",
       "      <td>162.0</td>\n",
       "      <td>2.009091e+09</td>\n",
       "      <td>PIT</td>\n",
       "      <td>TEN</td>\n",
       "      <td>TEN</td>\n",
       "      <td>away</td>\n",
       "      <td>PIT</td>\n",
       "      <td>TEN</td>\n",
       "      <td>98.0</td>\n",
       "      <td>10/09/2009</td>\n",
       "      <td>...</td>\n",
       "      <td>NaN</td>\n",
       "      <td>NaN</td>\n",
       "      <td>NaN</td>\n",
       "      <td>0.0</td>\n",
       "      <td>NaN</td>\n",
       "      <td>NaN</td>\n",
       "      <td>0.0</td>\n",
       "      <td>0.0</td>\n",
       "      <td>0.0</td>\n",
       "      <td>0.0</td>\n",
       "    </tr>\n",
       "    <tr>\n",
       "      <th>6</th>\n",
       "      <td>183.0</td>\n",
       "      <td>2.009091e+09</td>\n",
       "      <td>PIT</td>\n",
       "      <td>TEN</td>\n",
       "      <td>TEN</td>\n",
       "      <td>away</td>\n",
       "      <td>PIT</td>\n",
       "      <td>TEN</td>\n",
       "      <td>98.0</td>\n",
       "      <td>10/09/2009</td>\n",
       "      <td>...</td>\n",
       "      <td>NaN</td>\n",
       "      <td>NaN</td>\n",
       "      <td>NaN</td>\n",
       "      <td>0.0</td>\n",
       "      <td>NaN</td>\n",
       "      <td>NaN</td>\n",
       "      <td>0.0</td>\n",
       "      <td>0.0</td>\n",
       "      <td>0.0</td>\n",
       "      <td>0.0</td>\n",
       "    </tr>\n",
       "    <tr>\n",
       "      <th>7</th>\n",
       "      <td>207.0</td>\n",
       "      <td>2.009091e+09</td>\n",
       "      <td>PIT</td>\n",
       "      <td>TEN</td>\n",
       "      <td>TEN</td>\n",
       "      <td>away</td>\n",
       "      <td>PIT</td>\n",
       "      <td>TEN</td>\n",
       "      <td>94.0</td>\n",
       "      <td>10/09/2009</td>\n",
       "      <td>...</td>\n",
       "      <td>NaN</td>\n",
       "      <td>NaN</td>\n",
       "      <td>NaN</td>\n",
       "      <td>0.0</td>\n",
       "      <td>NaN</td>\n",
       "      <td>NaN</td>\n",
       "      <td>0.0</td>\n",
       "      <td>0.0</td>\n",
       "      <td>0.0</td>\n",
       "      <td>0.0</td>\n",
       "    </tr>\n",
       "    <tr>\n",
       "      <th>8</th>\n",
       "      <td>228.0</td>\n",
       "      <td>2.009091e+09</td>\n",
       "      <td>PIT</td>\n",
       "      <td>TEN</td>\n",
       "      <td>TEN</td>\n",
       "      <td>away</td>\n",
       "      <td>PIT</td>\n",
       "      <td>TEN</td>\n",
       "      <td>96.0</td>\n",
       "      <td>10/09/2009</td>\n",
       "      <td>...</td>\n",
       "      <td>NaN</td>\n",
       "      <td>NaN</td>\n",
       "      <td>NaN</td>\n",
       "      <td>0.0</td>\n",
       "      <td>NaN</td>\n",
       "      <td>NaN</td>\n",
       "      <td>0.0</td>\n",
       "      <td>0.0</td>\n",
       "      <td>0.0</td>\n",
       "      <td>0.0</td>\n",
       "    </tr>\n",
       "    <tr>\n",
       "      <th>9</th>\n",
       "      <td>253.0</td>\n",
       "      <td>2.009091e+09</td>\n",
       "      <td>PIT</td>\n",
       "      <td>TEN</td>\n",
       "      <td>PIT</td>\n",
       "      <td>home</td>\n",
       "      <td>TEN</td>\n",
       "      <td>TEN</td>\n",
       "      <td>43.0</td>\n",
       "      <td>10/09/2009</td>\n",
       "      <td>...</td>\n",
       "      <td>NaN</td>\n",
       "      <td>NaN</td>\n",
       "      <td>NaN</td>\n",
       "      <td>0.0</td>\n",
       "      <td>NaN</td>\n",
       "      <td>NaN</td>\n",
       "      <td>0.0</td>\n",
       "      <td>0.0</td>\n",
       "      <td>0.0</td>\n",
       "      <td>0.0</td>\n",
       "    </tr>\n",
       "  </tbody>\n",
       "</table>\n",
       "<p>10 rows × 255 columns</p>\n",
       "</div>"
      ],
      "text/plain": [
       "   play_id       game_id home_team away_team posteam posteam_type defteam  \\\n",
       "0     46.0  2.009091e+09       PIT       TEN     PIT         home     TEN   \n",
       "1     68.0  2.009091e+09       PIT       TEN     PIT         home     TEN   \n",
       "2     92.0  2.009091e+09       PIT       TEN     PIT         home     TEN   \n",
       "3    113.0  2.009091e+09       PIT       TEN     PIT         home     TEN   \n",
       "4    139.0  2.009091e+09       PIT       TEN     PIT         home     TEN   \n",
       "5    162.0  2.009091e+09       PIT       TEN     TEN         away     PIT   \n",
       "6    183.0  2.009091e+09       PIT       TEN     TEN         away     PIT   \n",
       "7    207.0  2.009091e+09       PIT       TEN     TEN         away     PIT   \n",
       "8    228.0  2.009091e+09       PIT       TEN     TEN         away     PIT   \n",
       "9    253.0  2.009091e+09       PIT       TEN     PIT         home     TEN   \n",
       "\n",
       "  side_of_field  yardline_100   game_date  ...  penalty_player_id  \\\n",
       "0           TEN          30.0  10/09/2009  ...                NaN   \n",
       "1           PIT          58.0  10/09/2009  ...                NaN   \n",
       "2           PIT          53.0  10/09/2009  ...                NaN   \n",
       "3           PIT          56.0  10/09/2009  ...                NaN   \n",
       "4           PIT          56.0  10/09/2009  ...                NaN   \n",
       "5           TEN          98.0  10/09/2009  ...                NaN   \n",
       "6           TEN          98.0  10/09/2009  ...                NaN   \n",
       "7           TEN          94.0  10/09/2009  ...                NaN   \n",
       "8           TEN          96.0  10/09/2009  ...                NaN   \n",
       "9           TEN          43.0  10/09/2009  ...                NaN   \n",
       "\n",
       "   penalty_player_name  penalty_yards replay_or_challenge  \\\n",
       "0                  NaN            NaN                 0.0   \n",
       "1                  NaN            NaN                 0.0   \n",
       "2                  NaN            NaN                 0.0   \n",
       "3                  NaN            NaN                 0.0   \n",
       "4                  NaN            NaN                 0.0   \n",
       "5                  NaN            NaN                 0.0   \n",
       "6                  NaN            NaN                 0.0   \n",
       "7                  NaN            NaN                 0.0   \n",
       "8                  NaN            NaN                 0.0   \n",
       "9                  NaN            NaN                 0.0   \n",
       "\n",
       "   replay_or_challenge_result  penalty_type  defensive_two_point_attempt  \\\n",
       "0                         NaN           NaN                          0.0   \n",
       "1                         NaN           NaN                          0.0   \n",
       "2                         NaN           NaN                          0.0   \n",
       "3                         NaN           NaN                          0.0   \n",
       "4                         NaN           NaN                          0.0   \n",
       "5                         NaN           NaN                          0.0   \n",
       "6                         NaN           NaN                          0.0   \n",
       "7                         NaN           NaN                          0.0   \n",
       "8                         NaN           NaN                          0.0   \n",
       "9                         NaN           NaN                          0.0   \n",
       "\n",
       "   defensive_two_point_conv  defensive_extra_point_attempt  \\\n",
       "0                       0.0                            0.0   \n",
       "1                       0.0                            0.0   \n",
       "2                       0.0                            0.0   \n",
       "3                       0.0                            0.0   \n",
       "4                       0.0                            0.0   \n",
       "5                       0.0                            0.0   \n",
       "6                       0.0                            0.0   \n",
       "7                       0.0                            0.0   \n",
       "8                       0.0                            0.0   \n",
       "9                       0.0                            0.0   \n",
       "\n",
       "   defensive_extra_point_conv  \n",
       "0                         0.0  \n",
       "1                         0.0  \n",
       "2                         0.0  \n",
       "3                         0.0  \n",
       "4                         0.0  \n",
       "5                         0.0  \n",
       "6                         0.0  \n",
       "7                         0.0  \n",
       "8                         0.0  \n",
       "9                         0.0  \n",
       "\n",
       "[10 rows x 255 columns]"
      ]
     },
     "execution_count": 27,
     "metadata": {},
     "output_type": "execute_result"
    }
   ],
   "source": [
    "nfl.head(10)"
   ]
  },
  {
   "cell_type": "markdown",
   "metadata": {},
   "source": [
    "7.\tGet the count of missing values in first twenty columns."
   ]
  },
  {
   "cell_type": "code",
   "execution_count": 28,
   "metadata": {},
   "outputs": [
    {
     "data": {
      "text/plain": [
       "play_id                      438372\n",
       "game_id                      438372\n",
       "home_team                    438372\n",
       "away_team                    438372\n",
       "posteam                      438755\n",
       "posteam_type                 438744\n",
       "defteam                      438744\n",
       "side_of_field                438391\n",
       "yardline_100                 438751\n",
       "game_date                    438372\n",
       "quarter_seconds_remaining    438378\n",
       "half_seconds_remaining       438378\n",
       "game_seconds_remaining       438378\n",
       "game_half                    438372\n",
       "quarter_end                  438372\n",
       "drive                        438372\n",
       "sp                           438372\n",
       "qtr                          438372\n",
       "down                         440057\n",
       "goal_to_go                   438740\n",
       "dtype: int64"
      ]
     },
     "execution_count": 28,
     "metadata": {},
     "output_type": "execute_result"
    }
   ],
   "source": [
    "nfl_missing_values=nfl.isnull().sum()\n",
    "nfl_missing_values[0:20]"
   ]
  },
  {
   "cell_type": "markdown",
   "metadata": {},
   "source": [
    "8.\tGet the percentage of data missing in this dataset."
   ]
  },
  {
   "cell_type": "code",
   "execution_count": 29,
   "metadata": {},
   "outputs": [
    {
     "data": {
      "text/plain": [
       "112868210"
      ]
     },
     "execution_count": 29,
     "metadata": {},
     "output_type": "execute_result"
    }
   ],
   "source": [
    "nfl_missing_values1=nfl_missing_values.sum()\n",
    "nfl_missing_values1"
   ]
  },
  {
   "cell_type": "code",
   "execution_count": 30,
   "metadata": {},
   "outputs": [],
   "source": [
    "import numpy as np\n",
    "\n",
    "tot_cells=np.product(nfl.shape)\n",
    "total_missing_cell=nfl_missing_values1"
   ]
  },
  {
   "cell_type": "code",
   "execution_count": 31,
   "metadata": {},
   "outputs": [
    {
     "data": {
      "text/plain": [
       "98.49777386002859"
      ]
     },
     "execution_count": 31,
     "metadata": {},
     "output_type": "execute_result"
    }
   ],
   "source": [
    "missing_per=(nfl_missing_values1/tot_cells)*100\n",
    "missing_per"
   ]
  },
  {
   "cell_type": "markdown",
   "metadata": {},
   "source": [
    "9.\tTake a look at the # of missing points in the columns ranging from 20 to 30."
   ]
  },
  {
   "cell_type": "code",
   "execution_count": 32,
   "metadata": {},
   "outputs": [
    {
     "data": {
      "text/plain": [
       "time            438378\n",
       "yrdln           438391\n",
       "ydstogo         438372\n",
       "ydsnet          438372\n",
       "desc            438372\n",
       "play_type       438744\n",
       "yards_gained    438372\n",
       "shotgun         438372\n",
       "no_huddle       438372\n",
       "qb_dropback     438744\n",
       "dtype: int64"
      ]
     },
     "execution_count": 32,
     "metadata": {},
     "output_type": "execute_result"
    }
   ],
   "source": [
    "nfl_missing_values[20:30]"
   ]
  },
  {
   "cell_type": "markdown",
   "metadata": {},
   "source": [
    "10.\tTry removing all the rows from this dataset that contain missing values. How many are left?"
   ]
  },
  {
   "cell_type": "code",
   "execution_count": 33,
   "metadata": {},
   "outputs": [],
   "source": [
    "rows_with_na_dropped=nfl.dropna(axis=0)"
   ]
  },
  {
   "cell_type": "code",
   "execution_count": 34,
   "metadata": {},
   "outputs": [
    {
     "data": {
      "text/plain": [
       "(0, 255)"
      ]
     },
     "execution_count": 34,
     "metadata": {},
     "output_type": "execute_result"
    }
   ],
   "source": [
    "rows_with_na_dropped.shape"
   ]
  },
  {
   "cell_type": "markdown",
   "metadata": {},
   "source": [
    "11.\tNow try removing all the columns with empty values. Now how much of your data is left?"
   ]
  },
  {
   "cell_type": "code",
   "execution_count": 35,
   "metadata": {},
   "outputs": [],
   "source": [
    "columns_with_na_dropped=nfl.dropna(axis=1)"
   ]
  },
  {
   "cell_type": "code",
   "execution_count": 36,
   "metadata": {},
   "outputs": [
    {
     "data": {
      "text/plain": [
       "(449371, 0)"
      ]
     },
     "execution_count": 36,
     "metadata": {},
     "output_type": "execute_result"
    }
   ],
   "source": [
    "columns_with_na_dropped.shape"
   ]
  },
  {
   "cell_type": "markdown",
   "metadata": {},
   "source": [
    "\n",
    "\n",
    "\n",
    "\n",
    "\n",
    "12.\tTry replacing all the NaN's in this data with the one that comes directly after it and then replacing any remaining NaN's with 0.\n"
   ]
  },
  {
   "cell_type": "code",
   "execution_count": 38,
   "metadata": {},
   "outputs": [],
   "source": [
    "nfl_filled = nfl.fillna(method='bfill', axis=0).fillna(0)"
   ]
  },
  {
   "cell_type": "code",
   "execution_count": 39,
   "metadata": {},
   "outputs": [
    {
     "data": {
      "text/html": [
       "<div>\n",
       "<style scoped>\n",
       "    .dataframe tbody tr th:only-of-type {\n",
       "        vertical-align: middle;\n",
       "    }\n",
       "\n",
       "    .dataframe tbody tr th {\n",
       "        vertical-align: top;\n",
       "    }\n",
       "\n",
       "    .dataframe thead th {\n",
       "        text-align: right;\n",
       "    }\n",
       "</style>\n",
       "<table border=\"1\" class=\"dataframe\">\n",
       "  <thead>\n",
       "    <tr style=\"text-align: right;\">\n",
       "      <th></th>\n",
       "      <th>play_id</th>\n",
       "      <th>game_id</th>\n",
       "      <th>home_team</th>\n",
       "      <th>away_team</th>\n",
       "      <th>posteam</th>\n",
       "      <th>posteam_type</th>\n",
       "      <th>defteam</th>\n",
       "      <th>side_of_field</th>\n",
       "      <th>yardline_100</th>\n",
       "      <th>game_date</th>\n",
       "      <th>...</th>\n",
       "      <th>penalty_player_id</th>\n",
       "      <th>penalty_player_name</th>\n",
       "      <th>penalty_yards</th>\n",
       "      <th>replay_or_challenge</th>\n",
       "      <th>replay_or_challenge_result</th>\n",
       "      <th>penalty_type</th>\n",
       "      <th>defensive_two_point_attempt</th>\n",
       "      <th>defensive_two_point_conv</th>\n",
       "      <th>defensive_extra_point_attempt</th>\n",
       "      <th>defensive_extra_point_conv</th>\n",
       "    </tr>\n",
       "  </thead>\n",
       "  <tbody>\n",
       "    <tr>\n",
       "      <th>0</th>\n",
       "      <td>46.0</td>\n",
       "      <td>2.009091e+09</td>\n",
       "      <td>PIT</td>\n",
       "      <td>TEN</td>\n",
       "      <td>PIT</td>\n",
       "      <td>home</td>\n",
       "      <td>TEN</td>\n",
       "      <td>TEN</td>\n",
       "      <td>30.0</td>\n",
       "      <td>10/09/2009</td>\n",
       "      <td>...</td>\n",
       "      <td>00-0022119</td>\n",
       "      <td>T.Polamalu</td>\n",
       "      <td>15.0</td>\n",
       "      <td>0.0</td>\n",
       "      <td>0.0</td>\n",
       "      <td>Unnecessary Roughness</td>\n",
       "      <td>0.0</td>\n",
       "      <td>0.0</td>\n",
       "      <td>0.0</td>\n",
       "      <td>0.0</td>\n",
       "    </tr>\n",
       "    <tr>\n",
       "      <th>1</th>\n",
       "      <td>68.0</td>\n",
       "      <td>2.009091e+09</td>\n",
       "      <td>PIT</td>\n",
       "      <td>TEN</td>\n",
       "      <td>PIT</td>\n",
       "      <td>home</td>\n",
       "      <td>TEN</td>\n",
       "      <td>PIT</td>\n",
       "      <td>58.0</td>\n",
       "      <td>10/09/2009</td>\n",
       "      <td>...</td>\n",
       "      <td>00-0022119</td>\n",
       "      <td>T.Polamalu</td>\n",
       "      <td>15.0</td>\n",
       "      <td>0.0</td>\n",
       "      <td>0.0</td>\n",
       "      <td>Unnecessary Roughness</td>\n",
       "      <td>0.0</td>\n",
       "      <td>0.0</td>\n",
       "      <td>0.0</td>\n",
       "      <td>0.0</td>\n",
       "    </tr>\n",
       "    <tr>\n",
       "      <th>2</th>\n",
       "      <td>92.0</td>\n",
       "      <td>2.009091e+09</td>\n",
       "      <td>PIT</td>\n",
       "      <td>TEN</td>\n",
       "      <td>PIT</td>\n",
       "      <td>home</td>\n",
       "      <td>TEN</td>\n",
       "      <td>PIT</td>\n",
       "      <td>53.0</td>\n",
       "      <td>10/09/2009</td>\n",
       "      <td>...</td>\n",
       "      <td>00-0022119</td>\n",
       "      <td>T.Polamalu</td>\n",
       "      <td>15.0</td>\n",
       "      <td>0.0</td>\n",
       "      <td>0.0</td>\n",
       "      <td>Unnecessary Roughness</td>\n",
       "      <td>0.0</td>\n",
       "      <td>0.0</td>\n",
       "      <td>0.0</td>\n",
       "      <td>0.0</td>\n",
       "    </tr>\n",
       "    <tr>\n",
       "      <th>3</th>\n",
       "      <td>113.0</td>\n",
       "      <td>2.009091e+09</td>\n",
       "      <td>PIT</td>\n",
       "      <td>TEN</td>\n",
       "      <td>PIT</td>\n",
       "      <td>home</td>\n",
       "      <td>TEN</td>\n",
       "      <td>PIT</td>\n",
       "      <td>56.0</td>\n",
       "      <td>10/09/2009</td>\n",
       "      <td>...</td>\n",
       "      <td>00-0022119</td>\n",
       "      <td>T.Polamalu</td>\n",
       "      <td>15.0</td>\n",
       "      <td>0.0</td>\n",
       "      <td>0.0</td>\n",
       "      <td>Unnecessary Roughness</td>\n",
       "      <td>0.0</td>\n",
       "      <td>0.0</td>\n",
       "      <td>0.0</td>\n",
       "      <td>0.0</td>\n",
       "    </tr>\n",
       "    <tr>\n",
       "      <th>4</th>\n",
       "      <td>139.0</td>\n",
       "      <td>2.009091e+09</td>\n",
       "      <td>PIT</td>\n",
       "      <td>TEN</td>\n",
       "      <td>PIT</td>\n",
       "      <td>home</td>\n",
       "      <td>TEN</td>\n",
       "      <td>PIT</td>\n",
       "      <td>56.0</td>\n",
       "      <td>10/09/2009</td>\n",
       "      <td>...</td>\n",
       "      <td>00-0022119</td>\n",
       "      <td>T.Polamalu</td>\n",
       "      <td>15.0</td>\n",
       "      <td>0.0</td>\n",
       "      <td>0.0</td>\n",
       "      <td>Unnecessary Roughness</td>\n",
       "      <td>0.0</td>\n",
       "      <td>0.0</td>\n",
       "      <td>0.0</td>\n",
       "      <td>0.0</td>\n",
       "    </tr>\n",
       "    <tr>\n",
       "      <th>...</th>\n",
       "      <td>...</td>\n",
       "      <td>...</td>\n",
       "      <td>...</td>\n",
       "      <td>...</td>\n",
       "      <td>...</td>\n",
       "      <td>...</td>\n",
       "      <td>...</td>\n",
       "      <td>...</td>\n",
       "      <td>...</td>\n",
       "      <td>...</td>\n",
       "      <td>...</td>\n",
       "      <td>...</td>\n",
       "      <td>...</td>\n",
       "      <td>...</td>\n",
       "      <td>...</td>\n",
       "      <td>...</td>\n",
       "      <td>...</td>\n",
       "      <td>...</td>\n",
       "      <td>...</td>\n",
       "      <td>...</td>\n",
       "      <td>...</td>\n",
       "    </tr>\n",
       "    <tr>\n",
       "      <th>449366</th>\n",
       "      <td>0.0</td>\n",
       "      <td>0.000000e+00</td>\n",
       "      <td>0</td>\n",
       "      <td>0</td>\n",
       "      <td>0</td>\n",
       "      <td>0</td>\n",
       "      <td>0</td>\n",
       "      <td>0</td>\n",
       "      <td>0.0</td>\n",
       "      <td>0</td>\n",
       "      <td>...</td>\n",
       "      <td>0</td>\n",
       "      <td>0</td>\n",
       "      <td>0.0</td>\n",
       "      <td>0.0</td>\n",
       "      <td>0.0</td>\n",
       "      <td>0</td>\n",
       "      <td>0.0</td>\n",
       "      <td>0.0</td>\n",
       "      <td>0.0</td>\n",
       "      <td>0.0</td>\n",
       "    </tr>\n",
       "    <tr>\n",
       "      <th>449367</th>\n",
       "      <td>0.0</td>\n",
       "      <td>0.000000e+00</td>\n",
       "      <td>0</td>\n",
       "      <td>0</td>\n",
       "      <td>0</td>\n",
       "      <td>0</td>\n",
       "      <td>0</td>\n",
       "      <td>0</td>\n",
       "      <td>0.0</td>\n",
       "      <td>0</td>\n",
       "      <td>...</td>\n",
       "      <td>0</td>\n",
       "      <td>0</td>\n",
       "      <td>0.0</td>\n",
       "      <td>0.0</td>\n",
       "      <td>0.0</td>\n",
       "      <td>0</td>\n",
       "      <td>0.0</td>\n",
       "      <td>0.0</td>\n",
       "      <td>0.0</td>\n",
       "      <td>0.0</td>\n",
       "    </tr>\n",
       "    <tr>\n",
       "      <th>449368</th>\n",
       "      <td>0.0</td>\n",
       "      <td>0.000000e+00</td>\n",
       "      <td>0</td>\n",
       "      <td>0</td>\n",
       "      <td>0</td>\n",
       "      <td>0</td>\n",
       "      <td>0</td>\n",
       "      <td>0</td>\n",
       "      <td>0.0</td>\n",
       "      <td>0</td>\n",
       "      <td>...</td>\n",
       "      <td>0</td>\n",
       "      <td>0</td>\n",
       "      <td>0.0</td>\n",
       "      <td>0.0</td>\n",
       "      <td>0.0</td>\n",
       "      <td>0</td>\n",
       "      <td>0.0</td>\n",
       "      <td>0.0</td>\n",
       "      <td>0.0</td>\n",
       "      <td>0.0</td>\n",
       "    </tr>\n",
       "    <tr>\n",
       "      <th>449369</th>\n",
       "      <td>0.0</td>\n",
       "      <td>0.000000e+00</td>\n",
       "      <td>0</td>\n",
       "      <td>0</td>\n",
       "      <td>0</td>\n",
       "      <td>0</td>\n",
       "      <td>0</td>\n",
       "      <td>0</td>\n",
       "      <td>0.0</td>\n",
       "      <td>0</td>\n",
       "      <td>...</td>\n",
       "      <td>0</td>\n",
       "      <td>0</td>\n",
       "      <td>0.0</td>\n",
       "      <td>0.0</td>\n",
       "      <td>0.0</td>\n",
       "      <td>0</td>\n",
       "      <td>0.0</td>\n",
       "      <td>0.0</td>\n",
       "      <td>0.0</td>\n",
       "      <td>0.0</td>\n",
       "    </tr>\n",
       "    <tr>\n",
       "      <th>449370</th>\n",
       "      <td>0.0</td>\n",
       "      <td>0.000000e+00</td>\n",
       "      <td>0</td>\n",
       "      <td>0</td>\n",
       "      <td>0</td>\n",
       "      <td>0</td>\n",
       "      <td>0</td>\n",
       "      <td>0</td>\n",
       "      <td>0.0</td>\n",
       "      <td>0</td>\n",
       "      <td>...</td>\n",
       "      <td>0</td>\n",
       "      <td>0</td>\n",
       "      <td>0.0</td>\n",
       "      <td>0.0</td>\n",
       "      <td>0.0</td>\n",
       "      <td>0</td>\n",
       "      <td>0.0</td>\n",
       "      <td>0.0</td>\n",
       "      <td>0.0</td>\n",
       "      <td>0.0</td>\n",
       "    </tr>\n",
       "  </tbody>\n",
       "</table>\n",
       "<p>449371 rows × 255 columns</p>\n",
       "</div>"
      ],
      "text/plain": [
       "        play_id       game_id home_team away_team posteam posteam_type  \\\n",
       "0          46.0  2.009091e+09       PIT       TEN     PIT         home   \n",
       "1          68.0  2.009091e+09       PIT       TEN     PIT         home   \n",
       "2          92.0  2.009091e+09       PIT       TEN     PIT         home   \n",
       "3         113.0  2.009091e+09       PIT       TEN     PIT         home   \n",
       "4         139.0  2.009091e+09       PIT       TEN     PIT         home   \n",
       "...         ...           ...       ...       ...     ...          ...   \n",
       "449366      0.0  0.000000e+00         0         0       0            0   \n",
       "449367      0.0  0.000000e+00         0         0       0            0   \n",
       "449368      0.0  0.000000e+00         0         0       0            0   \n",
       "449369      0.0  0.000000e+00         0         0       0            0   \n",
       "449370      0.0  0.000000e+00         0         0       0            0   \n",
       "\n",
       "       defteam side_of_field  yardline_100   game_date  ...  \\\n",
       "0          TEN           TEN          30.0  10/09/2009  ...   \n",
       "1          TEN           PIT          58.0  10/09/2009  ...   \n",
       "2          TEN           PIT          53.0  10/09/2009  ...   \n",
       "3          TEN           PIT          56.0  10/09/2009  ...   \n",
       "4          TEN           PIT          56.0  10/09/2009  ...   \n",
       "...        ...           ...           ...         ...  ...   \n",
       "449366       0             0           0.0           0  ...   \n",
       "449367       0             0           0.0           0  ...   \n",
       "449368       0             0           0.0           0  ...   \n",
       "449369       0             0           0.0           0  ...   \n",
       "449370       0             0           0.0           0  ...   \n",
       "\n",
       "        penalty_player_id  penalty_player_name  penalty_yards  \\\n",
       "0              00-0022119           T.Polamalu           15.0   \n",
       "1              00-0022119           T.Polamalu           15.0   \n",
       "2              00-0022119           T.Polamalu           15.0   \n",
       "3              00-0022119           T.Polamalu           15.0   \n",
       "4              00-0022119           T.Polamalu           15.0   \n",
       "...                   ...                  ...            ...   \n",
       "449366                  0                    0            0.0   \n",
       "449367                  0                    0            0.0   \n",
       "449368                  0                    0            0.0   \n",
       "449369                  0                    0            0.0   \n",
       "449370                  0                    0            0.0   \n",
       "\n",
       "       replay_or_challenge  replay_or_challenge_result           penalty_type  \\\n",
       "0                      0.0                         0.0  Unnecessary Roughness   \n",
       "1                      0.0                         0.0  Unnecessary Roughness   \n",
       "2                      0.0                         0.0  Unnecessary Roughness   \n",
       "3                      0.0                         0.0  Unnecessary Roughness   \n",
       "4                      0.0                         0.0  Unnecessary Roughness   \n",
       "...                    ...                         ...                    ...   \n",
       "449366                 0.0                         0.0                      0   \n",
       "449367                 0.0                         0.0                      0   \n",
       "449368                 0.0                         0.0                      0   \n",
       "449369                 0.0                         0.0                      0   \n",
       "449370                 0.0                         0.0                      0   \n",
       "\n",
       "        defensive_two_point_attempt  defensive_two_point_conv  \\\n",
       "0                               0.0                       0.0   \n",
       "1                               0.0                       0.0   \n",
       "2                               0.0                       0.0   \n",
       "3                               0.0                       0.0   \n",
       "4                               0.0                       0.0   \n",
       "...                             ...                       ...   \n",
       "449366                          0.0                       0.0   \n",
       "449367                          0.0                       0.0   \n",
       "449368                          0.0                       0.0   \n",
       "449369                          0.0                       0.0   \n",
       "449370                          0.0                       0.0   \n",
       "\n",
       "        defensive_extra_point_attempt  defensive_extra_point_conv  \n",
       "0                                 0.0                         0.0  \n",
       "1                                 0.0                         0.0  \n",
       "2                                 0.0                         0.0  \n",
       "3                                 0.0                         0.0  \n",
       "4                                 0.0                         0.0  \n",
       "...                               ...                         ...  \n",
       "449366                            0.0                         0.0  \n",
       "449367                            0.0                         0.0  \n",
       "449368                            0.0                         0.0  \n",
       "449369                            0.0                         0.0  \n",
       "449370                            0.0                         0.0  \n",
       "\n",
       "[449371 rows x 255 columns]"
      ]
     },
     "execution_count": 39,
     "metadata": {},
     "output_type": "execute_result"
    }
   ],
   "source": [
    "nfl_filled"
   ]
  },
  {
   "cell_type": "code",
   "execution_count": null,
   "metadata": {},
   "outputs": [],
   "source": []
  }
 ],
 "metadata": {
  "kernelspec": {
   "display_name": "base",
   "language": "python",
   "name": "python3"
  },
  "language_info": {
   "codemirror_mode": {
    "name": "ipython",
    "version": 3
   },
   "file_extension": ".py",
   "mimetype": "text/x-python",
   "name": "python",
   "nbconvert_exporter": "python",
   "pygments_lexer": "ipython3",
   "version": "3.11.4"
  }
 },
 "nbformat": 4,
 "nbformat_minor": 2
}
